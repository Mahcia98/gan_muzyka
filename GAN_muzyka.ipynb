{
  "cells": [
    {
      "cell_type": "code",
      "execution_count": 12,
      "metadata": {
        "colab": {
          "base_uri": "https://localhost:8080/",
          "height": 17
        },
        "id": "81hCFNBGnfqJ",
        "outputId": "4765f307-3a28-449a-a857-846b52a5c9bb"
      },
      "outputs": [
        {
          "data": {
            "text/html": [
              "\n",
              "                <div id=\"midiPlayerDiv78748\"></div>\n",
              "                <link rel=\"stylesheet\" href=\"//cuthbertLab.github.io/music21j/css/m21.css\"\n",
              "                    type=\"text/css\" />\n",
              "                \n",
              "                <script>\n",
              "                require.config({\n",
              "                    paths: {'music21': '//cuthbertLab.github.io/music21j/src/music21'}\n",
              "                });\n",
              "                require(['music21'], function() {\n",
              "                               mp = new music21.miditools.MidiPlayer();\n",
              "                               mp.addPlayer(\"#midiPlayerDiv78748\");\n",
              "                               mp.base64Load(\"data:audio/midi;base64,TVRoZAAAAAYAAQAFBABNVHJrAAAAFAD/UQMJJ8AA/1gEBAIYCIgA/y8ATVRyawAAAFEA/wMHdW5rbm93bgDAAADgAEAAwACIAJBgZIgAgGAAAJBhZIgAgGEAAJBjZJAAgGMAAJBhZIgAgGEAAJBgZIgAgGAAAJBeZJAAgF4AiAD/LwBNVHJrAAAAYwD/Awd1bmtub3duAMAAAOAAQADAAIgAkFxkkACAXAAAkFtkiACAWwAAkFxkhACAXAAAkFtkhACAWwAAkFlkhACAWQAAkFtkhACAWwAAkFxkiACAXAAAkFtkkACAWwCIAP8vAE1UcmsAAABRAP8DB3Vua25vd24AwAAA4ABAAMAAiACQV2SIAIBXAACQUGSEAIBQAACQUmSEAIBSAACQVGSQAIBUAACQVWSIAIBVAACQV2SYAIBXAIgA/y8ATVRyawAAAFoA/wMHdW5rbm93bgDAAADgAEAAwACIAJBQZIgAgFAAAJBNZIgAgE0AAJBIZIgAgEgAAJBNZIgAgE0AAJBGZIgAgEYAAJBEZIgAgEQAAJBLZJAAgEsAiAD/LwA=\");\n",
              "                        });\n",
              "                </script>"
            ],
            "text/plain": [
              "<IPython.core.display.HTML object>"
            ]
          },
          "metadata": {},
          "output_type": "display_data"
        }
      ],
      "source": [
        "import os\n",
        "import numpy as np\n",
        "from music21 import midi\n",
        "\n",
        "# Sprawdzamy czy jest do dyspozycji GPU i ewentualnie ustawiamy\n",
        "# import tensorflow as tf\n",
        "# print(\"Num GPUs Available: \", len(tf.config.experimental.list_physical_devices('GPU')))\n",
        "# tf.config.experimental.set_visible_devices(tf.config.experimental.list_physical_devices('GPU')[0], 'GPU')\n",
        "\n",
        "# ładujemy pliki midi z katalogu midi\n",
        "path = 'midi'\n",
        "midiz = os.listdir(path)\n",
        "midis = []\n",
        "for m in midiz:\n",
        "    midis.append(os.path.join(path,m))\n",
        "\n",
        "mf = midi.MidiFile()\n",
        "mf.open(midis[0]) \n",
        "mf.read()\n",
        "mf.close()\n",
        "s = midi.translate.midiFileToStream(mf)\n",
        "s.show('midi')\n"
      ]
    },
    {
      "cell_type": "code",
      "execution_count": 16,
      "metadata": {
        "id": "Jcw5zm1wdY-E",
        "outputId": "9460e772-d124-4bfa-a99c-2440c78f9507"
      },
      "outputs": [
        {
          "name": "stderr",
          "output_type": "stream",
          "text": [
            "C:\\Users\\pc\\AppData\\Local\\Temp/ipykernel_9428/3584018630.py:21: DeprecationWarning: ANTIALIAS is deprecated and will be removed in Pillow 10 (2023-07-01). Use Resampling.LANCZOS instead.\n",
            "  img = img.resize((basewidth,hsize), Image.ANTIALIAS)\n"
          ]
        }
      ],
      "source": [
        "\n",
        "import os\n",
        "import numpy as np\n",
        "import py_midicsv as pm\n",
        "import midi2img\n",
        "import img2midi\n",
        "from PIL import Image\n",
        "    \n",
        "# zamieniamy pliki midi na obrazy png\n",
        "for m in midis:\n",
        "     midi2img.midi2image(m)\n",
        "\n",
        "img_dir = 'midi_img'\n",
        "if not os.path.exists(img_dir):\n",
        "    os.makedirs(img_dir)\n",
        "\n",
        "midi_imgs = os.listdir(path)\n",
        "for mi in midi_imgs:\n",
        "    if \".png\" in mi:\n",
        "        basewidth = 106\n",
        "        img = Image.open(os.path.join(path,mi))\n",
        "        hsize = 106\n",
        "        img = img.resize((basewidth,hsize), Image.ANTIALIAS)\n",
        "        img.save(img_dir+\"/\"+mi)\n",
        "        os.remove(os.path.join(path,mi))\n"
      ]
    },
    {
      "cell_type": "code",
      "execution_count": 3,
      "metadata": {
        "ExecuteTime": {
          "end_time": "2021-01-29T05:03:41.268375Z",
          "start_time": "2021-01-29T05:03:38.786217Z"
        },
        "id": "kX1h3INwnfpw",
        "scrolled": true
      },
      "outputs": [],
      "source": [
        "import os\n",
        "from PIL import Image\n",
        "from matplotlib import pyplot as plt \n",
        "import numpy as np\n",
        "\n",
        "# wczytujemy obrazki do listy\n",
        "\n",
        "path = 'midi_img'\n",
        "img_list = os.listdir(path)\n",
        "\n",
        "def get_images(img_list,path):\n",
        "    pixels = []\n",
        "    imgs = []\n",
        "    for imgl in img_list:\n",
        "        img = Image.open(os.path.join(path,imgl),'r')\n",
        "        img = img.convert('1')\n",
        "        pix = np.array(img.getdata())\n",
        "        pix = pix.astype('float32')\n",
        "        pix /= 255.0\n",
        "        pixels.append(pix.reshape(106,106,1))\n",
        "        imgs.append(img)\n",
        "    return np.array(pixels),imgs\n",
        "    \n",
        "pixels,imgs = get_images(img_list,path)\n",
        "np.unique(pixels)"
      ]
    },
    {
      "cell_type": "code",
      "execution_count": 22,
      "metadata": {
        "ExecuteTime": {
          "start_time": "2021-01-29T05:03:46.615Z"
        },
        "id": "PDstUZS5nfqB"
      },
      "outputs": [],
      "source": [
        "from numpy import expand_dims\n",
        "from numpy import zeros\n",
        "from numpy import ones\n",
        "from numpy import vstack\n",
        "from numpy.random import randn\n",
        "from numpy.random import randint\n",
        "from keras.datasets.mnist import load_data\n",
        "from keras.optimizers import Adam\n",
        "from keras.models import Sequential\n",
        "from keras.layers import Dense\n",
        "from keras.layers import Reshape\n",
        "from keras.layers import Flatten,BatchNormalization\n",
        "from keras.layers import Conv2D\n",
        "from keras.layers import Conv2DTranspose\n",
        "from keras.layers import LeakyReLU\n",
        "from keras.layers import Dropout\n",
        "from matplotlib import pyplot\n",
        "from IPython.display import clear_output\n",
        " \n",
        "# definicje dyskryminatora i generatora\n",
        "\n",
        "def create_discriminator(in_shape = (106,106,1)):\n",
        "    model = Sequential()\n",
        "    model.add(Conv2D(16, (3,3), strides=(2, 2), padding='same', input_shape=in_shape))\n",
        "    model.add(Dropout(0.5))\n",
        "    model.add(LeakyReLU(alpha=0.2))\n",
        "    model.add(Dropout(0.5))\n",
        "    model.add(Conv2D(16, (3,3), strides=(2, 2), padding='same'))\n",
        "    model.add(Dropout(0.5))\n",
        "    model.add(LeakyReLU(alpha=0.2))\n",
        "    model.add(Dropout(0.5))\n",
        "    model.add(Flatten())\n",
        "    model.add(BatchNormalization())\n",
        "    model.add(Dropout(0.5))\n",
        "    model.add(Dense(1, activation='sigmoid'))\n",
        "    opt = Adam(lr=0.0002, beta_1=0.5)\n",
        "    model.compile(loss='binary_crossentropy', optimizer=opt, metrics=['accuracy'])\n",
        "    return model\n",
        " \n",
        "def create_generator(latent_dim):\n",
        "    model = Sequential()\n",
        "    n_nodes = 128 * 53 * 53\n",
        "    model.add(Dense(n_nodes, input_dim=latent_dim))\n",
        "    model.add(LeakyReLU(alpha=0.2))\n",
        "    model.add(Reshape((53, 53, 128)))\n",
        "    \n",
        "    model.add(Dense(1024))\n",
        "    model.add(LeakyReLU(alpha=0.2))\n",
        "    model.add(Conv2DTranspose(64, (4,4), strides=(2,2), padding='same'))\n",
        "    model.add(Dense(1024))\n",
        "    model.add(LeakyReLU(alpha=0.2))\n",
        "    model.add(Dense(1024))\n",
        "    model.add(LeakyReLU(alpha=0.2))\n",
        "    model.add(BatchNormalization())\n",
        "    model.add(Conv2D(1, (7,7) , padding='same',activation = 'sigmoid'))\n",
        "    return model\n",
        " \n",
        "# tworzenie modelu sieci GAN\n",
        "def create_gan(generator, discriminator):\n",
        "    discriminator.trainable = False\n",
        "    model = Sequential()\n",
        "    model.add(generator)\n",
        "    model.add(discriminator)\n",
        "    opt = Adam(lr=0.0002, beta_1=0.5)\n",
        "    model.compile(loss='binary_crossentropy', optimizer=opt)\n",
        "    return model\n",
        " \n",
        "#funkcja zwracająca wczytane wcześniej obrazy \n",
        "def get_real_images(dataset, n_samples):\n",
        "    ix = randint(0, dataset.shape[0], n_samples)\n",
        "    X = dataset[ix]\n",
        "    y = ones((n_samples, 1))\n",
        "    return X, y\n",
        " \n",
        "# funkcja zwracająca losowe dane dla generatora\n",
        "def get_latent_data(latent_dim, n_samples):\n",
        "    x_input = randn(latent_dim * n_samples)\n",
        "    x_input = x_input.reshape(n_samples, latent_dim)\n",
        "    return x_input\n",
        "\n",
        "#funkcja zwracająca obrazy wygenerowane przez generator\n",
        "def get_fake_images(generator, latent_dim, n_samples):\n",
        "    x_input = get_latent_data(latent_dim, n_samples)\n",
        "    X = generator.predict(x_input)\n",
        "    y = zeros((n_samples, 1))\n",
        "    return X, y\n",
        "\n",
        "#funkcja sprawdzająca skuteczność modelu generatora i wypisująca aktualne wartości accuracy\n",
        "def print_accuracy(epoch, generator, discriminator, dataset, latent_dim, n_samples=100):\n",
        "    X_real, y_real = get_real_images(dataset, n_samples)\n",
        "    _, acc_real = discriminator.evaluate(X_real, y_real, verbose=0)\n",
        "    x_fake, y_fake = get_fake_images(generator, latent_dim, n_samples)\n",
        "    _, acc_fake = discriminator.evaluate(x_fake, y_fake, verbose=0)\n",
        "    print(' Real data accuracy: %.0f%%, fake data accuracy: %.0f%%' % (acc_real*100, acc_fake*100))\n",
        "\n",
        "# trening\n",
        "def train(generator, discriminator, gan_model, dataset, latent_dim, n_epochs=240, n_batch=16):\n",
        "    bat_per_epo = int(dataset.shape[0] / n_batch)\n",
        "    half_batch = int(n_batch / 2)\n",
        "    for i in range(n_epochs):\n",
        "        print(f\"Epoka {i}\")\n",
        "        for j in range(bat_per_epo):\n",
        "            X_real, y_real = get_real_images(dataset, half_batch)\n",
        "            X_fake, y_fake = get_fake_images(generator, latent_dim, half_batch)\n",
        "            fake = X_fake[0]\n",
        "            # dla pierwszego batcha każdej epoki wyświetlamy jeden wygenerowany obraz\n",
        "            if j==0:\n",
        "              image = X_fake[0].reshape(106, 106)\n",
        "              plt.imshow(image, cmap='gray')\n",
        "              plt.show()\n",
        "       \n",
        "            # trening modeli\n",
        "            X, y = vstack((X_real, X_fake)), vstack((y_real, y_fake))\n",
        "            d_loss, _ = discriminator.train_on_batch(X, y)\n",
        "            X_gan = get_latent_data(latent_dim, n_batch)\n",
        "            y_gan = ones((n_batch, 1))\n",
        "            g_loss = gan_model.train_on_batch(X_gan, y_gan)\n",
        "            print(' %d, %d/%d, d loss=%.3f, g loss=%.3f' % (i+1, j+1, bat_per_epo, d_loss, g_loss))\n",
        "        if (i+1) % 2 == 0: #co jakiś czas wyświetlamy accuracy\n",
        "            print_accuracy(i, generator, discriminator, dataset, latent_dim)\n",
        "            clear_output()\n",
        "\n",
        "# wywołujemy pętlę treningową z naszymi modelami generatora i dyskryminatora\n",
        "latent_dim = 100\n",
        "discriminator = create_discriminator()\n",
        "generator = create_generator(latent_dim)\n",
        "gan_model = create_gan(generator, discriminator)\n",
        "train(generator, discriminator, gan_model, np.array(pixels), latent_dim)"
      ]
    },
    {
      "cell_type": "code",
      "execution_count": 30,
      "metadata": {
        "ExecuteTime": {
          "end_time": "2020-11-18T16:04:53.257273Z",
          "start_time": "2020-11-18T16:04:45.560352Z"
        },
        "colab": {
          "base_uri": "https://localhost:8080/",
          "height": 286
        },
        "id": "XDflcidNnfqG",
        "outputId": "9d8c003f-2504-4d60-a208-d83295d9b355"
      },
      "outputs": [
        {
          "name": "stdout",
          "output_type": "stream",
          "text": [
            "1/1 [==============================] - 0s 24ms/step\n"
          ]
        },
        {
          "data": {
            "image/png": "[encoded data removed]",
            "text/plain": [
              "<Figure size 432x288 with 1 Axes>"
            ]
          },
          "metadata": {
            "image/png": {
              "height": 251,
              "width": 258
            },
            "needs_background": "light"
          },
          "output_type": "display_data"
        }
      ],
      "source": [
        "from keras.models import load_model\n",
        "from numpy.random import randn\n",
        "from matplotlib import pyplot\n",
        "\n",
        "\n",
        "#generujemy obrazek za pomocą modelu generatora\n",
        "model = generator\n",
        "latent_points = get_latent_data(latent_dim,1)\n",
        "X = generator.predict(latent_points)\n",
        "\n",
        "#zmieniamy kształt wygenerowanych danych do wyświetlenia i zapisania jako png\n",
        "X = X.reshape(106, 106)\n",
        "X *=255\n",
        "plt.imshow(X, cmap='gray')  #wyświetlamy przykładowy wygenerowany obraz z nutami\n",
        "plt.show()\n",
        "img = Image.fromarray(X)\n",
        "img = img.convert(\"L\")\n",
        "img.save('muzyka.png')"
      ]
    },
    {
      "cell_type": "code",
      "execution_count": 33,
      "metadata": {
        "colab": {
          "base_uri": "https://localhost:8080/",
          "height": 110
        },
        "id": "-1O3XNwb4LqT",
        "outputId": "852b8bc9-9074-4cb3-bbf8-277b1dcb88b4"
      },
      "outputs": [
        {
          "name": "stdout",
          "output_type": "stream",
          "text": [
            "106 106\n",
            "muzyka.png\n"
          ]
        },
        {
          "name": "stderr",
          "output_type": "stream",
          "text": [
            "<ipython-input-2-4a553254369f>:24: DeprecationWarning: The binary mode of fromstring is deprecated, as it behaves surprisingly on unicode inputs. Use frombuffer instead\n",
            "  im_arr = np.fromstring(image.tobytes(), dtype=np.uint8)\n"
          ]
        },
        {
          "data": {
            "text/html": [
              "\n",
              "                <div id='midiPlayerDiv2246'></div>\n",
              "                <link rel=\"stylesheet\" href=\"//cuthbertLab.github.io/music21j/css/m21.css\"\n",
              "                    type=\"text/css\" />\n",
              "                <script>\n",
              "                require.config({\n",
              "                    paths: {'music21': '//cuthbertLab.github.io/music21j/src/music21'}\n",
              "                });\n",
              "                require(['music21'], function() {\n",
              "                               mp = new music21.miditools.MidiPlayer();\n",
              "                               mp.addPlayer('#midiPlayerDiv2246');\n",
              "                               mp.base64Load('data:audio/midi;base64,TVRoZAAAAAYAAQABBABNVHJrAAABnAD/AwAA4ABAAJA8WgCQRloAkHtaAJBJWgCQTVoAkFJaAJBWWgCQYFoAkFRaAJBbWoIAgDwAAIBGAACAewAAgEkAhACATQAAgFIAAIBWAACAYACCAJBWWgCQYFqCAIBUAACAVgAAgGAAAJBPWoIAkGBaAJBUWoIAgFsAAIBPAACAYACCAJBZWoIAgFkAggCQTFoAkFlaAJBbWoIAgFQAAIBMAIIAkFRaAJBgWoIAgFkAAIBbAACAVACCAJBUWoIAgFQAggCQVFoAkFVaAJBiWgCQVlqCAIBgAACAVAAAgFUAAIBiAIIAkFRaAJBgWgCQWFoAkF1aAJBiWoIAgFQAAJBLWoIAgGAAAIBLAACQVFoAkE9aggCAVgAAgFgAAIBdAACAYgAAgFQAAJBKWoIAgEoAAJBUWoIAgE8AAIBUAIIAkEtaAJBPWgCQYVoAkFRaAJBZWoIAgEsAAIBPAACQUlqCAIBhAACAUgCCAIBUAIIAkFRaAJBhWoIAgFQAAIBhAIIAkEtaAJBUWoQAgFkAAIBLAIIAgFQAiAD/LwA=');\n",
              "                        });\n",
              "                </script>"
            ],
            "text/plain": [
              "<IPython.core.display.HTML object>"
            ]
          },
          "metadata": {},
          "output_type": "display_data"
        }
      ],
      "source": [
        "#zamieniamy wygenerowany obrazek na muzykę\n",
        "\n",
        "image2midi('muzyka.png')\n",
        "\n",
        "mf = midi.MidiFile()\n",
        "mf.open(\"composition.mid\") \n",
        "mf.read()\n",
        "mf.close()\n",
        "s = midi.translate.midiFileToStream(mf)\n",
        "s.show('midi')\n"
      ]
    }
  ],
  "metadata": {
    "accelerator": "GPU",
    "colab": {
      "provenance": []
    },
    "hide_input": false,
    "kernelspec": {
      "display_name": "base",
      "language": "python",
      "name": "python3"
    },
    "language_info": {
      "codemirror_mode": {
        "name": "ipython",
        "version": 3
      },
      "file_extension": ".py",
      "mimetype": "text/x-python",
      "name": "python",
      "nbconvert_exporter": "python",
      "pygments_lexer": "ipython3",
      "version": "3.8.10 (default, May 19 2021, 13:12:57) [MSC v.1916 64 bit (AMD64)]"
    },
    "toc": {
      "base_numbering": 1,
      "nav_menu": {},
      "number_sections": true,
      "sideBar": true,
      "skip_h1_title": false,
      "title_cell": "Table of Contents",
      "title_sidebar": "Contents",
      "toc_cell": false,
      "toc_position": {},
      "toc_section_display": true,
      "toc_window_display": false
    },
    "varInspector": {
      "cols": {
        "lenName": 16,
        "lenType": 16,
        "lenVar": 40
      },
      "kernels_config": {
        "python": {
          "delete_cmd_postfix": "",
          "delete_cmd_prefix": "del ",
          "library": "var_list.py",
          "varRefreshCmd": "print(var_dic_list())"
        },
        "r": {
          "delete_cmd_postfix": ") ",
          "delete_cmd_prefix": "rm(",
          "library": "var_list.r",
          "varRefreshCmd": "cat(var_dic_list()) "
        }
      },
      "position": {
        "height": "645px",
        "left": "1052px",
        "right": "20px",
        "top": "121px",
        "width": "350px"
      },
      "types_to_exclude": [
        "module",
        "function",
        "builtin_function_or_method",
        "instance",
        "_Feature"
      ],
      "window_display": false
    },
    "vscode": {
      "interpreter": {
        "hash": "631af202ec7c40e141c49d63cac6c8cb664469fed6e4d5ddc6436b49edc60500"
      }
    }
  },
  "nbformat": 4,
  "nbformat_minor": 0
}
